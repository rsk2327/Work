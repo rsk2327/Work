{
 "cells": [
  {
   "cell_type": "code",
   "execution_count": 1,
   "metadata": {
    "collapsed": true
   },
   "outputs": [],
   "source": [
    "import pandas as pd\n",
    "import numpy as np\n"
   ]
  },
  {
   "cell_type": "code",
   "execution_count": 2,
   "metadata": {
    "collapsed": true
   },
   "outputs": [],
   "source": [
    "trainData = pd.read_csv('/home/roshan/Documents/FreelanceWork/Work/MathewCoeff/Train_data.csv')\n",
    "testData = pd.read_csv('/home/roshan/Documents/FreelanceWork/Work/MathewCoeff/Test_data.csv')"
   ]
  },
  {
   "cell_type": "code",
   "execution_count": 3,
   "metadata": {},
   "outputs": [
    {
     "data": {
      "text/html": [
       "<div>\n",
       "<style>\n",
       "    .dataframe thead tr:only-child th {\n",
       "        text-align: right;\n",
       "    }\n",
       "\n",
       "    .dataframe thead th {\n",
       "        text-align: left;\n",
       "    }\n",
       "\n",
       "    .dataframe tbody tr th {\n",
       "        vertical-align: top;\n",
       "    }\n",
       "</style>\n",
       "<table border=\"1\" class=\"dataframe\">\n",
       "  <thead>\n",
       "    <tr style=\"text-align: right;\">\n",
       "      <th></th>\n",
       "      <th>B1</th>\n",
       "      <th>B2</th>\n",
       "      <th>B3</th>\n",
       "      <th>B4</th>\n",
       "      <th>B5</th>\n",
       "      <th>B6</th>\n",
       "      <th>B7</th>\n",
       "      <th>B8</th>\n",
       "      <th>B9</th>\n",
       "      <th>B10</th>\n",
       "      <th>...</th>\n",
       "      <th>B12221</th>\n",
       "      <th>B12222</th>\n",
       "      <th>B12223</th>\n",
       "      <th>B12224</th>\n",
       "      <th>B12225</th>\n",
       "      <th>B12226</th>\n",
       "      <th>B12227</th>\n",
       "      <th>B12228</th>\n",
       "      <th>B12229</th>\n",
       "      <th>Class</th>\n",
       "    </tr>\n",
       "  </thead>\n",
       "  <tbody>\n",
       "    <tr>\n",
       "      <th>0</th>\n",
       "      <td>5.778</td>\n",
       "      <td>7.550</td>\n",
       "      <td>3.935</td>\n",
       "      <td>0.000</td>\n",
       "      <td>5.903</td>\n",
       "      <td>0.000</td>\n",
       "      <td>5.903</td>\n",
       "      <td>3.935</td>\n",
       "      <td>1.968</td>\n",
       "      <td>0.000</td>\n",
       "      <td>...</td>\n",
       "      <td>0</td>\n",
       "      <td>0</td>\n",
       "      <td>1</td>\n",
       "      <td>0</td>\n",
       "      <td>0</td>\n",
       "      <td>0</td>\n",
       "      <td>0</td>\n",
       "      <td>0</td>\n",
       "      <td>0</td>\n",
       "      <td>1</td>\n",
       "    </tr>\n",
       "    <tr>\n",
       "      <th>1</th>\n",
       "      <td>5.804</td>\n",
       "      <td>6.125</td>\n",
       "      <td>6.373</td>\n",
       "      <td>0.000</td>\n",
       "      <td>4.248</td>\n",
       "      <td>2.124</td>\n",
       "      <td>4.248</td>\n",
       "      <td>6.373</td>\n",
       "      <td>0.000</td>\n",
       "      <td>8.497</td>\n",
       "      <td>...</td>\n",
       "      <td>0</td>\n",
       "      <td>0</td>\n",
       "      <td>0</td>\n",
       "      <td>0</td>\n",
       "      <td>0</td>\n",
       "      <td>0</td>\n",
       "      <td>0</td>\n",
       "      <td>0</td>\n",
       "      <td>0</td>\n",
       "      <td>1</td>\n",
       "    </tr>\n",
       "    <tr>\n",
       "      <th>2</th>\n",
       "      <td>7.256</td>\n",
       "      <td>6.044</td>\n",
       "      <td>4.242</td>\n",
       "      <td>0.000</td>\n",
       "      <td>2.121</td>\n",
       "      <td>0.000</td>\n",
       "      <td>0.000</td>\n",
       "      <td>2.121</td>\n",
       "      <td>0.000</td>\n",
       "      <td>2.121</td>\n",
       "      <td>...</td>\n",
       "      <td>0</td>\n",
       "      <td>0</td>\n",
       "      <td>0</td>\n",
       "      <td>1</td>\n",
       "      <td>0</td>\n",
       "      <td>0</td>\n",
       "      <td>0</td>\n",
       "      <td>0</td>\n",
       "      <td>0</td>\n",
       "      <td>1</td>\n",
       "    </tr>\n",
       "    <tr>\n",
       "      <th>3</th>\n",
       "      <td>8.155</td>\n",
       "      <td>5.772</td>\n",
       "      <td>0.000</td>\n",
       "      <td>2.065</td>\n",
       "      <td>4.129</td>\n",
       "      <td>0.000</td>\n",
       "      <td>0.000</td>\n",
       "      <td>8.258</td>\n",
       "      <td>2.065</td>\n",
       "      <td>2.065</td>\n",
       "      <td>...</td>\n",
       "      <td>0</td>\n",
       "      <td>0</td>\n",
       "      <td>0</td>\n",
       "      <td>0</td>\n",
       "      <td>0</td>\n",
       "      <td>0</td>\n",
       "      <td>0</td>\n",
       "      <td>0</td>\n",
       "      <td>0</td>\n",
       "      <td>1</td>\n",
       "    </tr>\n",
       "    <tr>\n",
       "      <th>4</th>\n",
       "      <td>5.821</td>\n",
       "      <td>5.705</td>\n",
       "      <td>8.746</td>\n",
       "      <td>2.187</td>\n",
       "      <td>2.187</td>\n",
       "      <td>4.372</td>\n",
       "      <td>0.000</td>\n",
       "      <td>0.000</td>\n",
       "      <td>2.187</td>\n",
       "      <td>0.000</td>\n",
       "      <td>...</td>\n",
       "      <td>0</td>\n",
       "      <td>0</td>\n",
       "      <td>0</td>\n",
       "      <td>0</td>\n",
       "      <td>0</td>\n",
       "      <td>0</td>\n",
       "      <td>0</td>\n",
       "      <td>0</td>\n",
       "      <td>0</td>\n",
       "      <td>1</td>\n",
       "    </tr>\n",
       "  </tbody>\n",
       "</table>\n",
       "<p>5 rows × 12230 columns</p>\n",
       "</div>"
      ],
      "text/plain": [
       "      B1     B2     B3     B4     B5     B6     B7     B8     B9    B10  \\\n",
       "0  5.778  7.550  3.935  0.000  5.903  0.000  5.903  3.935  1.968  0.000   \n",
       "1  5.804  6.125  6.373  0.000  4.248  2.124  4.248  6.373  0.000  8.497   \n",
       "2  7.256  6.044  4.242  0.000  2.121  0.000  0.000  2.121  0.000  2.121   \n",
       "3  8.155  5.772  0.000  2.065  4.129  0.000  0.000  8.258  2.065  2.065   \n",
       "4  5.821  5.705  8.746  2.187  2.187  4.372  0.000  0.000  2.187  0.000   \n",
       "\n",
       "   ...    B12221  B12222  B12223  B12224  B12225  B12226  B12227  B12228  \\\n",
       "0  ...         0       0       1       0       0       0       0       0   \n",
       "1  ...         0       0       0       0       0       0       0       0   \n",
       "2  ...         0       0       0       1       0       0       0       0   \n",
       "3  ...         0       0       0       0       0       0       0       0   \n",
       "4  ...         0       0       0       0       0       0       0       0   \n",
       "\n",
       "   B12229  Class  \n",
       "0       0      1  \n",
       "1       0      1  \n",
       "2       0      1  \n",
       "3       0      1  \n",
       "4       0      1  \n",
       "\n",
       "[5 rows x 12230 columns]"
      ]
     },
     "execution_count": 3,
     "metadata": {},
     "output_type": "execute_result"
    }
   ],
   "source": [
    "trainData.head()"
   ]
  },
  {
   "cell_type": "code",
   "execution_count": 4,
   "metadata": {},
   "outputs": [
    {
     "data": {
      "text/html": [
       "<div>\n",
       "<style>\n",
       "    .dataframe thead tr:only-child th {\n",
       "        text-align: right;\n",
       "    }\n",
       "\n",
       "    .dataframe thead th {\n",
       "        text-align: left;\n",
       "    }\n",
       "\n",
       "    .dataframe tbody tr th {\n",
       "        vertical-align: top;\n",
       "    }\n",
       "</style>\n",
       "<table border=\"1\" class=\"dataframe\">\n",
       "  <thead>\n",
       "    <tr style=\"text-align: right;\">\n",
       "      <th></th>\n",
       "      <th>B1</th>\n",
       "      <th>B2</th>\n",
       "      <th>B3</th>\n",
       "      <th>B4</th>\n",
       "      <th>B5</th>\n",
       "      <th>B6</th>\n",
       "      <th>B7</th>\n",
       "      <th>B8</th>\n",
       "      <th>B9</th>\n",
       "      <th>B10</th>\n",
       "      <th>...</th>\n",
       "      <th>B12221</th>\n",
       "      <th>B12222</th>\n",
       "      <th>B12223</th>\n",
       "      <th>B12224</th>\n",
       "      <th>B12225</th>\n",
       "      <th>B12226</th>\n",
       "      <th>B12227</th>\n",
       "      <th>B12228</th>\n",
       "      <th>B12229</th>\n",
       "      <th>Class</th>\n",
       "    </tr>\n",
       "  </thead>\n",
       "  <tbody>\n",
       "    <tr>\n",
       "      <th>0</th>\n",
       "      <td>5.658</td>\n",
       "      <td>5.571</td>\n",
       "      <td>4.432</td>\n",
       "      <td>2.217</td>\n",
       "      <td>2.217</td>\n",
       "      <td>2.217</td>\n",
       "      <td>2.217</td>\n",
       "      <td>6.649</td>\n",
       "      <td>0.000</td>\n",
       "      <td>4.432</td>\n",
       "      <td>...</td>\n",
       "      <td>0</td>\n",
       "      <td>0</td>\n",
       "      <td>0</td>\n",
       "      <td>1</td>\n",
       "      <td>0</td>\n",
       "      <td>0</td>\n",
       "      <td>0</td>\n",
       "      <td>0</td>\n",
       "      <td>0</td>\n",
       "      <td>1</td>\n",
       "    </tr>\n",
       "    <tr>\n",
       "      <th>1</th>\n",
       "      <td>7.011</td>\n",
       "      <td>6.244</td>\n",
       "      <td>0.000</td>\n",
       "      <td>2.246</td>\n",
       "      <td>6.739</td>\n",
       "      <td>6.739</td>\n",
       "      <td>0.000</td>\n",
       "      <td>8.985</td>\n",
       "      <td>4.492</td>\n",
       "      <td>4.492</td>\n",
       "      <td>...</td>\n",
       "      <td>0</td>\n",
       "      <td>0</td>\n",
       "      <td>0</td>\n",
       "      <td>0</td>\n",
       "      <td>0</td>\n",
       "      <td>0</td>\n",
       "      <td>0</td>\n",
       "      <td>0</td>\n",
       "      <td>0</td>\n",
       "      <td>1</td>\n",
       "    </tr>\n",
       "    <tr>\n",
       "      <th>2</th>\n",
       "      <td>6.825</td>\n",
       "      <td>6.991</td>\n",
       "      <td>0.000</td>\n",
       "      <td>0.000</td>\n",
       "      <td>2.092</td>\n",
       "      <td>0.000</td>\n",
       "      <td>14.641</td>\n",
       "      <td>4.183</td>\n",
       "      <td>2.092</td>\n",
       "      <td>2.092</td>\n",
       "      <td>...</td>\n",
       "      <td>0</td>\n",
       "      <td>0</td>\n",
       "      <td>0</td>\n",
       "      <td>0</td>\n",
       "      <td>0</td>\n",
       "      <td>0</td>\n",
       "      <td>0</td>\n",
       "      <td>0</td>\n",
       "      <td>0</td>\n",
       "      <td>1</td>\n",
       "    </tr>\n",
       "    <tr>\n",
       "      <th>3</th>\n",
       "      <td>5.797</td>\n",
       "      <td>5.079</td>\n",
       "      <td>0.000</td>\n",
       "      <td>2.263</td>\n",
       "      <td>2.263</td>\n",
       "      <td>0.000</td>\n",
       "      <td>4.525</td>\n",
       "      <td>6.787</td>\n",
       "      <td>2.263</td>\n",
       "      <td>2.263</td>\n",
       "      <td>...</td>\n",
       "      <td>0</td>\n",
       "      <td>0</td>\n",
       "      <td>0</td>\n",
       "      <td>0</td>\n",
       "      <td>0</td>\n",
       "      <td>0</td>\n",
       "      <td>0</td>\n",
       "      <td>0</td>\n",
       "      <td>1</td>\n",
       "      <td>1</td>\n",
       "    </tr>\n",
       "    <tr>\n",
       "      <th>4</th>\n",
       "      <td>5.156</td>\n",
       "      <td>6.621</td>\n",
       "      <td>0.000</td>\n",
       "      <td>0.000</td>\n",
       "      <td>2.279</td>\n",
       "      <td>2.279</td>\n",
       "      <td>2.279</td>\n",
       "      <td>2.279</td>\n",
       "      <td>4.558</td>\n",
       "      <td>0.000</td>\n",
       "      <td>...</td>\n",
       "      <td>0</td>\n",
       "      <td>0</td>\n",
       "      <td>0</td>\n",
       "      <td>0</td>\n",
       "      <td>0</td>\n",
       "      <td>0</td>\n",
       "      <td>0</td>\n",
       "      <td>0</td>\n",
       "      <td>0</td>\n",
       "      <td>1</td>\n",
       "    </tr>\n",
       "  </tbody>\n",
       "</table>\n",
       "<p>5 rows × 12230 columns</p>\n",
       "</div>"
      ],
      "text/plain": [
       "      B1     B2     B3     B4     B5     B6      B7     B8     B9    B10  \\\n",
       "0  5.658  5.571  4.432  2.217  2.217  2.217   2.217  6.649  0.000  4.432   \n",
       "1  7.011  6.244  0.000  2.246  6.739  6.739   0.000  8.985  4.492  4.492   \n",
       "2  6.825  6.991  0.000  0.000  2.092  0.000  14.641  4.183  2.092  2.092   \n",
       "3  5.797  5.079  0.000  2.263  2.263  0.000   4.525  6.787  2.263  2.263   \n",
       "4  5.156  6.621  0.000  0.000  2.279  2.279   2.279  2.279  4.558  0.000   \n",
       "\n",
       "   ...    B12221  B12222  B12223  B12224  B12225  B12226  B12227  B12228  \\\n",
       "0  ...         0       0       0       1       0       0       0       0   \n",
       "1  ...         0       0       0       0       0       0       0       0   \n",
       "2  ...         0       0       0       0       0       0       0       0   \n",
       "3  ...         0       0       0       0       0       0       0       0   \n",
       "4  ...         0       0       0       0       0       0       0       0   \n",
       "\n",
       "   B12229  Class  \n",
       "0       0      1  \n",
       "1       0      1  \n",
       "2       0      1  \n",
       "3       1      1  \n",
       "4       0      1  \n",
       "\n",
       "[5 rows x 12230 columns]"
      ]
     },
     "execution_count": 4,
     "metadata": {},
     "output_type": "execute_result"
    }
   ],
   "source": [
    "testData.head()"
   ]
  },
  {
   "cell_type": "code",
   "execution_count": 5,
   "metadata": {
    "collapsed": true
   },
   "outputs": [],
   "source": [
    "trainLabel = trainData.loc[:,'Class']"
   ]
  },
  {
   "cell_type": "code",
   "execution_count": 6,
   "metadata": {
    "collapsed": true
   },
   "outputs": [],
   "source": [
    "testLabel = testData.loc[:,'Class']"
   ]
  },
  {
   "cell_type": "code",
   "execution_count": 7,
   "metadata": {
    "collapsed": true
   },
   "outputs": [],
   "source": [
    "trainData = trainData.drop('Class',axis=1)\n",
    "testData = testData.drop('Class',axis=1)"
   ]
  },
  {
   "cell_type": "code",
   "execution_count": 10,
   "metadata": {},
   "outputs": [
    {
     "data": {
      "text/plain": [
       "count    168.000000\n",
       "mean       0.166667\n",
       "std        0.373792\n",
       "min        0.000000\n",
       "25%        0.000000\n",
       "50%        0.000000\n",
       "75%        0.000000\n",
       "max        1.000000\n",
       "Name: Class, dtype: float64"
      ]
     },
     "execution_count": 10,
     "metadata": {},
     "output_type": "execute_result"
    }
   ],
   "source": [
    "testLabel.describe()"
   ]
  },
  {
   "cell_type": "code",
   "execution_count": 14,
   "metadata": {},
   "outputs": [],
   "source": [
    "trainSTD = trainData.std()"
   ]
  },
  {
   "cell_type": "code",
   "execution_count": 12,
   "metadata": {},
   "outputs": [
    {
     "data": {
      "text/plain": [
       "count    2035.000000\n",
       "mean        0.018673\n",
       "std         0.138985\n",
       "min         0.000000\n",
       "25%         0.000000\n",
       "50%         0.000000\n",
       "75%         0.000000\n",
       "max         2.000000\n",
       "Name: B12207, dtype: float64"
      ]
     },
     "execution_count": 12,
     "metadata": {},
     "output_type": "execute_result"
    }
   ],
   "source": [
    "trainData['B12207'].describe()"
   ]
  },
  {
   "cell_type": "code",
   "execution_count": 13,
   "metadata": {},
   "outputs": [
    {
     "data": {
      "text/plain": [
       "(array([1998,    0,    0,    0,    0,   36,    0,    0,    0,    1]),\n",
       " array([ 0. ,  0.2,  0.4,  0.6,  0.8,  1. ,  1.2,  1.4,  1.6,  1.8,  2. ]))"
      ]
     },
     "execution_count": 13,
     "metadata": {},
     "output_type": "execute_result"
    }
   ],
   "source": [
    "np.histogram(trainData['B12207'])"
   ]
  },
  {
   "cell_type": "code",
   "execution_count": 15,
   "metadata": {},
   "outputs": [
    {
     "data": {
      "text/plain": [
       "B1    1.069641\n",
       "B2    1.124221\n",
       "B3    2.799909\n",
       "B4    1.720922\n",
       "B5    2.739137\n",
       "dtype: float64"
      ]
     },
     "execution_count": 15,
     "metadata": {},
     "output_type": "execute_result"
    }
   ],
   "source": [
    "trainSTD.head()"
   ]
  },
  {
   "cell_type": "code",
   "execution_count": 20,
   "metadata": {},
   "outputs": [
    {
     "data": {
      "text/plain": [
       "5290"
      ]
     },
     "execution_count": 20,
     "metadata": {},
     "output_type": "execute_result"
    }
   ],
   "source": [
    "len(trainSTD.loc[trainSTD<0.05])"
   ]
  },
  {
   "cell_type": "code",
   "execution_count": 21,
   "metadata": {},
   "outputs": [
    {
     "data": {
      "text/plain": [
       "B48       0.000000\n",
       "B49       0.000000\n",
       "B50       0.000000\n",
       "B51       0.000000\n",
       "B52       0.000000\n",
       "B53       0.000000\n",
       "B54       0.000000\n",
       "B55       0.000000\n",
       "B60       0.000000\n",
       "B64       0.031342\n",
       "B71       0.000000\n",
       "B72       0.000000\n",
       "B84       0.000000\n",
       "B91       0.000000\n",
       "B96       0.000000\n",
       "B97       0.000000\n",
       "B98       0.000000\n",
       "B99       0.000000\n",
       "B100      0.000000\n",
       "B101      0.000000\n",
       "B102      0.000000\n",
       "B103      0.000000\n",
       "B104      0.000000\n",
       "B106      0.000000\n",
       "B111      0.049519\n",
       "B119      0.000000\n",
       "B126      0.000000\n",
       "B129      0.000000\n",
       "B130      0.000000\n",
       "B131      0.000000\n",
       "            ...   \n",
       "B9704     0.000000\n",
       "B9725     0.000000\n",
       "B9726     0.000000\n",
       "B9733     0.000000\n",
       "B9758     0.000000\n",
       "B9759     0.000000\n",
       "B9764     0.000000\n",
       "B9780     0.000000\n",
       "B9782     0.000000\n",
       "B9788     0.000000\n",
       "B9791     0.000000\n",
       "B9792     0.000000\n",
       "B9793     0.000000\n",
       "B9797     0.000000\n",
       "B9809     0.000000\n",
       "B9816     0.000000\n",
       "B9826     0.000000\n",
       "B10083    0.049519\n",
       "B10168    0.044302\n",
       "B10206    0.031342\n",
       "B10273    0.038376\n",
       "B10296    0.044302\n",
       "B10484    0.049519\n",
       "B10835    0.044302\n",
       "B11214    0.049519\n",
       "B11403    0.022168\n",
       "B11492    0.049519\n",
       "B11716    0.049519\n",
       "B12007    0.031342\n",
       "B12105    0.049519\n",
       "Length: 5290, dtype: float64"
      ]
     },
     "execution_count": 21,
     "metadata": {},
     "output_type": "execute_result"
    }
   ],
   "source": [
    "trainSTD.loc[trainSTD<0.05]"
   ]
  },
  {
   "cell_type": "code",
   "execution_count": 25,
   "metadata": {},
   "outputs": [
    {
     "data": {
      "text/plain": [
       "(array([2030,    0,    0,    0,    0,    0,    0,    0,    0,    5]),\n",
       " array([ 0. ,  0.1,  0.2,  0.3,  0.4,  0.5,  0.6,  0.7,  0.8,  0.9,  1. ]))"
      ]
     },
     "execution_count": 25,
     "metadata": {},
     "output_type": "execute_result"
    }
   ],
   "source": [
    "np.histogram(trainData['B12105'])"
   ]
  },
  {
   "cell_type": "code",
   "execution_count": 23,
   "metadata": {},
   "outputs": [
    {
     "data": {
      "text/plain": [
       "2035"
      ]
     },
     "execution_count": 23,
     "metadata": {},
     "output_type": "execute_result"
    }
   ],
   "source": [
    "len(trainData)"
   ]
  },
  {
   "cell_type": "code",
   "execution_count": null,
   "metadata": {
    "collapsed": true
   },
   "outputs": [],
   "source": []
  }
 ],
 "metadata": {
  "kernelspec": {
   "display_name": "Python 2",
   "language": "python",
   "name": "python2"
  },
  "language_info": {
   "codemirror_mode": {
    "name": "ipython",
    "version": 2
   },
   "file_extension": ".py",
   "mimetype": "text/x-python",
   "name": "python",
   "nbconvert_exporter": "python",
   "pygments_lexer": "ipython2",
   "version": "2.7.12"
  }
 },
 "nbformat": 4,
 "nbformat_minor": 2
}
