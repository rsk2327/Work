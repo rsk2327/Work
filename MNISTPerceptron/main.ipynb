{
 "cells": [
  {
   "cell_type": "code",
   "execution_count": 87,
   "metadata": {
    "collapsed": true
   },
   "outputs": [],
   "source": [
    "import matplotlib\n",
    "import numpy as np\n",
    "import matplotlib.pyplot as plt\n",
    "%matplotlib inline  \n",
    "import random"
   ]
  },
  {
   "cell_type": "code",
   "execution_count": 121,
   "metadata": {
    "collapsed": true
   },
   "outputs": [],
   "source": [
    "def processImg(image):\n",
    "    \n",
    "    imageData = []\n",
    "    \n",
    "    for i in image:\n",
    "        imageSlice = [float(x) for x in i.split(\" \")[0:14]]\n",
    "        imageData.append(imageSlice)\n",
    "    \n",
    "    imageData = np.array(imageData)\n",
    "    imageData = np.reshape(imageData, (196,))\n",
    "    return (imageData)\n",
    "        \n",
    "    "
   ]
  },
  {
   "cell_type": "code",
   "execution_count": 122,
   "metadata": {
    "collapsed": true
   },
   "outputs": [],
   "source": [
    "def readData(filename):\n",
    "    \n",
    "    f = open(filename,'r')\n",
    "\n",
    "    data = []\n",
    "    i=0\n",
    "    for x in f:\n",
    "        data.append(x)\n",
    "        \n",
    "    imgData = []\n",
    "    imgLabel = []\n",
    "    \n",
    "    trainData = []\n",
    "    trainLabel = []\n",
    "\n",
    "    for num in range(0,10):\n",
    "        for fileNo in range(0,250):\n",
    "\n",
    "            startRow = fileNo*16 + num*4000\n",
    "            fileData = data[startRow:(startRow+16)]\n",
    "            img = processImg(fileData[1:15])\n",
    "\n",
    "            imgData.append(img)\n",
    "            imgLabel.append(num)\n",
    "            \n",
    "    return([imgData,imgLabel])\n",
    "    \n",
    "    \n",
    "    "
   ]
  },
  {
   "cell_type": "code",
   "execution_count": 174,
   "metadata": {
    "collapsed": true
   },
   "outputs": [],
   "source": [
    "#Change file paths accordingly\n",
    "trainData,trainLabel = readData('/home/roshan/Documents/FreelanceWork/MNISTPerceptron/digits_train.txt')\n",
    "testData,testLabel = readData('/home/roshan/Documents/FreelanceWork/MNISTPerceptron/digits_test.txt')"
   ]
  },
  {
   "cell_type": "code",
   "execution_count": 288,
   "metadata": {},
   "outputs": [
    {
     "name": "stdout",
     "output_type": "stream",
     "text": [
      "5\n"
     ]
    },
    {
     "data": {
      "image/png": "[encoded data removed]",
      "text/plain": [
       "<matplotlib.figure.Figure at 0x7fe13e63a610>"
      ]
     },
     "metadata": {},
     "output_type": "display_data"
    }
   ],
   "source": [
    "fileNo=1323\n",
    "\n",
    "plt.imshow( np.reshape(trainData[fileNo],(14,14)))\n",
    "print(trainLabel[fileNo])    "
   ]
  },
  {
   "cell_type": "markdown",
   "metadata": {},
   "source": [
    "## Perceptron Modeling\n"
   ]
  },
  {
   "cell_type": "markdown",
   "metadata": {},
   "source": [
    "#### Helper functions"
   ]
  },
  {
   "cell_type": "code",
   "execution_count": 289,
   "metadata": {
    "collapsed": true
   },
   "outputs": [],
   "source": [
    "import math\n",
    "\n",
    "def sigmoid(x):\n",
    "    return 1 / (1 + math.exp(-x))\n",
    "\n",
    "def shuffleData(data,label):\n",
    "    '''\n",
    "    Shuffles the data so that all digits are not stacked sequentially\n",
    "    '''\n",
    "    \n",
    "    zipData = [i for i in zip(data,label)]\n",
    "    random.shuffle(zipData)\n",
    "    \n",
    "    data = [np.array(i[0]) for i in zipData]\n",
    "    label = [i[1] for i in zipData]\n",
    "    \n",
    "    return([data,label])\n",
    "\n",
    "\n",
    "def predict(weight, data):\n",
    "    '''\n",
    "    Given input data and weights, outputs binary classification prediction\n",
    "    '''\n",
    "    \n",
    "    y_pred = np.array([sigmoid(x) for x in np.matmul(data,W)])\n",
    "    \n",
    "    output = np.array([1 if x>= 0.5 else 0 for x in y_pred ])\n",
    "    \n",
    "    return(output)\n",
    "\n",
    "\n",
    "def likelihood(pred,labels):\n",
    "    '''Calculates log likelihood function'''\n",
    "    \n",
    "    logpred = np.array([math.log(i) for i in pred])\n",
    "    \n",
    "    return(-np.mean(labels*logpred + (1-labels)*(1-logpred)))\n",
    "\n",
    "\n",
    "def accuracy(W,data,label):\n",
    "    '''Calculates accuracy metric'''\n",
    "    \n",
    "    pred = predict(W,data)\n",
    "    out = [1 if x[0]==x[1] else 0 for x in zip(pred,label) ]\n",
    "    \n",
    "    return(sum(out)/float(len(pred)))\n",
    "    "
   ]
  },
  {
   "cell_type": "code",
   "execution_count": 177,
   "metadata": {
    "collapsed": true
   },
   "outputs": [],
   "source": [
    "#Creating Labels for neural network for classifying the digit 5\n",
    "trainLabel2 = [1 if x == 5 else 0 for x in trainLabel]\n",
    "testLabel2 = [1 if x == 5 else 0 for x in testLabel]\n",
    "\n",
    "trainData,trainLabel2 = shuffleData(trainData,trainLabel2)\n",
    "testData,testLabel2 = shuffleData(testData,testLabel2)"
   ]
  },
  {
   "cell_type": "markdown",
   "metadata": {},
   "source": [
    "#### Training the model"
   ]
  },
  {
   "cell_type": "code",
   "execution_count": null,
   "metadata": {
    "collapsed": true
   },
   "outputs": [],
   "source": [
    "# SETTING HYPERPARAMETERS\n",
    "\n",
    "trainSize = len(trainData)\n",
    "batchSize = 100\n",
    "nEpochs = 15\n",
    "learningRate = 0.001\n",
    "\n",
    "W = np.random.uniform(low = -np.sqrt(6.0/(196 + 1)), high = np.sqrt(6.0/(196 + 1)), size= (196,))"
   ]
  },
  {
   "cell_type": "code",
   "execution_count": 290,
   "metadata": {},
   "outputs": [
    {
     "name": "stdout",
     "output_type": "stream",
     "text": [
      "train accuracy is 0.949200 and test accuracy is 0.939600\n",
      "train accuracy is 0.950000 and test accuracy is 0.940000\n",
      "train accuracy is 0.950800 and test accuracy is 0.940400\n",
      "train accuracy is 0.951200 and test accuracy is 0.940400\n",
      "train accuracy is 0.951200 and test accuracy is 0.940400\n",
      "train accuracy is 0.951200 and test accuracy is 0.940800\n",
      "train accuracy is 0.951200 and test accuracy is 0.941200\n",
      "train accuracy is 0.951600 and test accuracy is 0.941200\n",
      "train accuracy is 0.951600 and test accuracy is 0.941600\n",
      "train accuracy is 0.951600 and test accuracy is 0.942000\n",
      "train accuracy is 0.951200 and test accuracy is 0.942000\n",
      "train accuracy is 0.952000 and test accuracy is 0.942000\n",
      "train accuracy is 0.952400 and test accuracy is 0.942800\n",
      "train accuracy is 0.952400 and test accuracy is 0.942800\n",
      "train accuracy is 0.953600 and test accuracy is 0.942800\n"
     ]
    }
   ],
   "source": [
    "# TRAINING\n",
    "for i in range(nEpochs):\n",
    "    \n",
    "    for batch in range(0,len(trainData),batchSize):\n",
    "    \n",
    "        batchData = np.array(trainData[batch:(batch+batchSize)])\n",
    "        batchLabel = np.array(trainLabel2[batch:(batch+batchSize)])\n",
    "        \n",
    "        y_pred = np.array([sigmoid(x) for x in np.matmul(batchData,W)])\n",
    "\n",
    "        cost = likelihood(y_pred,batchLabel)\n",
    "        #print(\"cost is %f\"%cost)\n",
    "        \n",
    "        for wgt in range(len(W)):\n",
    "            inputSlice = batchData[:,wgt]\n",
    "            error = batchLabel - y_pred\n",
    "\n",
    "            derivative = np.sum(inputSlice*error)\n",
    "            W[wgt] = W[wgt] + learningRate*derivative\n",
    "            \n",
    "        \n",
    "        trainAccuracy = accuracy(W,trainData,trainLabel2)\n",
    "        testAccuracy = accuracy(W,testData,testLabel2)\n",
    "    print(\"train accuracy is %f and test accuracy is %f\"%(trainAccuracy,testAccuracy))\n",
    "    \n",
    "        \n",
    "        \n",
    "    \n",
    "    "
   ]
  },
  {
   "cell_type": "code",
   "execution_count": 298,
   "metadata": {},
   "outputs": [
    {
     "name": "stdout",
     "output_type": "stream",
     "text": [
      "[0 0 0 1 0 0 0 0 0 0]\n",
      "0\n"
     ]
    },
    {
     "data": {
      "image/png": "[encoded data removed]",
      "text/plain": [
       "<matplotlib.figure.Figure at 0x7fe13ea0a210>"
      ]
     },
     "metadata": {},
     "output_type": "display_data"
    }
   ],
   "source": [
    "print(predict(W,testData[15:25]))\n",
    "\n",
    "plt.imshow( np.reshape(testData[18],(14,14)))\n",
    "print(testLabel2[fileNo]) \n",
    "    \n",
    "        "
   ]
  },
  {
   "cell_type": "code",
   "execution_count": null,
   "metadata": {
    "collapsed": true
   },
   "outputs": [],
   "source": []
  }
 ],
 "metadata": {
  "kernelspec": {
   "display_name": "Python 2",
   "language": "python",
   "name": "python2"
  },
  "language_info": {
   "codemirror_mode": {
    "name": "ipython",
    "version": 2
   },
   "file_extension": ".py",
   "mimetype": "text/x-python",
   "name": "python",
   "nbconvert_exporter": "python",
   "pygments_lexer": "ipython2",
   "version": "2.7.12"
  }
 },
 "nbformat": 4,
 "nbformat_minor": 2
}
