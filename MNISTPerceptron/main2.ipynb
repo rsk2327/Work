{
 "cells": [
  {
   "cell_type": "code",
   "execution_count": 15,
   "metadata": {
    "collapsed": true
   },
   "outputs": [],
   "source": [
    "import matplotlib\n",
    "import numpy as np\n",
    "import matplotlib.pyplot as plt\n",
    "%matplotlib inline  \n",
    "import random"
   ]
  },
  {
   "cell_type": "code",
   "execution_count": 16,
   "metadata": {
    "collapsed": true
   },
   "outputs": [],
   "source": [
    "def processImg(image):\n",
    "    '''\n",
    "    Inputs the image data as 14 lines and outputs an numpy array of length 196\n",
    "    '''\n",
    "    imageData = []\n",
    "    \n",
    "    for i in image:\n",
    "        imageSlice = [float(x) for x in i.split(\" \")[0:14]] #pick first 14 elements after splitting based on \" \"\n",
    "        imageData.append(imageSlice)\n",
    "    \n",
    "    imageData = np.array(imageData)\n",
    "    imageData = np.reshape(imageData, (196,))  # reshapes the 14,14 matrix into array of length 196\n",
    "    return (imageData)\n",
    "        \n",
    "    "
   ]
  },
  {
   "cell_type": "code",
   "execution_count": 17,
   "metadata": {
    "collapsed": true
   },
   "outputs": [],
   "source": [
    "def readData(filename):\n",
    "    '''\n",
    "    Reads a file and outputs the image vectors and labels for all images in the file\n",
    "    '''\n",
    "    \n",
    "    f = open(filename,'r')\n",
    "\n",
    "    data = []\n",
    "    i=0\n",
    "    for x in f:\n",
    "        data.append(x)\n",
    "        \n",
    "    imgData = []\n",
    "    imgLabel = []\n",
    "    \n",
    "\n",
    "    for num in range(0,10):   # iterator to iterate over the 10 digits\n",
    "        for fileNo in range(0,250):  # iterator to iterate over the 250 files for a single digit\n",
    "\n",
    "            startRow = fileNo*16 + num*4000 #calculates the starting row for a particukar\n",
    "            fileData = data[startRow:(startRow+16)]\n",
    "            img = processImg(fileData[1:15])\n",
    "\n",
    "            imgData.append(img)\n",
    "            imgLabel.append(num)\n",
    "            \n",
    "    return([imgData,imgLabel])\n",
    "    \n",
    "    \n",
    "    "
   ]
  },
  {
   "cell_type": "code",
   "execution_count": 18,
   "metadata": {
    "collapsed": true
   },
   "outputs": [],
   "source": [
    "#Change file paths accordingly\n",
    "trainData,trainLabel = readData('/axp/rim/probc/dev/rgunukul/hackathons/GIM_Hackathon_2017/plan_my_trip/processData2/work/digits_train.txt')\n",
    "testData,testLabel = readData('/axp/rim/probc/dev/rgunukul/hackathons/GIM_Hackathon_2017/plan_my_trip/processData2/work/digits_test.txt')"
   ]
  },
  {
   "cell_type": "code",
   "execution_count": 19,
   "metadata": {},
   "outputs": [
    {
     "name": "stdout",
     "output_type": "stream",
     "text": [
      "5\n"
     ]
    },
    {
     "data": {
      "image/png": "[encoded data removed]",
      "text/plain": [
       "<matplotlib.figure.Figure at 0x7f9e21e639b0>"
      ]
     },
     "metadata": {},
     "output_type": "display_data"
    }
   ],
   "source": [
    "fileNo=1323\n",
    "\n",
    "plt.imshow( np.reshape(trainData[fileNo],(14,14)))\n",
    "print(trainLabel[fileNo])    "
   ]
  },
  {
   "cell_type": "markdown",
   "metadata": {},
   "source": [
    "## Perceptron Modeling\n"
   ]
  },
  {
   "cell_type": "markdown",
   "metadata": {},
   "source": [
    "#### Helper functions"
   ]
  },
  {
   "cell_type": "code",
   "execution_count": 24,
   "metadata": {
    "collapsed": true
   },
   "outputs": [],
   "source": [
    "import math\n",
    "\n",
    "def sigmoid(x):\n",
    "    return 1 / (1 + math.exp(-x))\n",
    "\n",
    "def shuffleData(data,label):\n",
    "    '''\n",
    "    Shuffles the data so that all digits are not stacked sequentially\n",
    "    '''\n",
    "    \n",
    "    zipData = [i for i in zip(data,label)]\n",
    "    random.shuffle(zipData)\n",
    "    \n",
    "    data = [np.array(i[0]) for i in zipData]\n",
    "    label = [i[1] for i in zipData]\n",
    "    \n",
    "    return([data,label])\n",
    "\n",
    "\n",
    "def predict(weight, data):\n",
    "    '''\n",
    "    Given input data and weights, outputs binary classification prediction\n",
    "    '''\n",
    "    \n",
    "    y_pred = np.array([sigmoid(x) for x in np.matmul(data,W)])\n",
    "    \n",
    "    output = np.array([1 if x>= 0.5 else 0 for x in y_pred ])\n",
    "    \n",
    "    return(output)\n",
    "\n",
    "\n",
    "def likelihood(pred,labels):\n",
    "    '''Calculates log likelihood function'''\n",
    "    \n",
    "    logpred = np.array([math.log(i) for i in pred])\n",
    "    \n",
    "    return(-np.mean(labels*logpred + (1-labels)*(1-logpred)))\n",
    "\n",
    "\n",
    "def accuracy(pred,label):\n",
    "    '''Calculates accuracy metric'''\n",
    "    \n",
    "    out = [1 if x[0]==x[1] else 0 for x in zip(pred,label) ]\n",
    "    \n",
    "    return(sum(out)/float(len(pred)))\n",
    "\n",
    "\n",
    "def calcMetric(pred, label):\n",
    "    '''Calculates confusion matrix, precision, recall and f1 score for given set of predictions and labels'''\n",
    "    \n",
    "    confusionMatrix=[[0,0],[0,0]]\n",
    "    \n",
    "    totalSize = len(pred)\n",
    "    \n",
    "    true_positive = float(np.sum([1 if (x[0]==1 and x[1]==1) else 0 for x in zip(pred,label)]))\n",
    "    true_negative = float(np.sum([1 if (x[0]==0 and x[1]==0) else 0 for x in zip(pred,label)]))\n",
    "    \n",
    "    false_positive = float(np.sum([1 if (x[0]==1 and x[1]==0) else 0 for x in zip(pred,label)]))\n",
    "    false_negative = float(np.sum([1 if (x[0]==0 and x[1]==1) else 0 for x in zip(pred,label)]))\n",
    "    \n",
    "    if (true_positive+false_positive) != 0:\n",
    "        precision = true_positive/(true_positive + false_positive)\n",
    "    else:\n",
    "        precision = 0\n",
    "        \n",
    "    if (true_positive + false_negative)!=0:\n",
    "        recall = true_positive/(true_positive + false_negative)\n",
    "    else:\n",
    "        recall = 0\n",
    "    \n",
    "    if recall==0 or precision ==0:\n",
    "        f1 =0\n",
    "    else:\n",
    "        f1 = 2/((1/precision) + (1/recall))\n",
    "    \n",
    "    confusionMatrix[0][0] = true_positive/float(totalSize)\n",
    "    confusionMatrix[0][1] = false_negative/float(totalSize)\n",
    "    confusionMatrix[1][0] = false_positive/float(totalSize)\n",
    "    confusionMatrix[1][1] = true_negative/float(totalSize)\n",
    "    \n",
    "    return([confusionMatrix, precision, recall, f1])\n",
    "    "
   ]
  },
  {
   "cell_type": "code",
   "execution_count": 21,
   "metadata": {
    "collapsed": true
   },
   "outputs": [],
   "source": [
    "#Creating 0-1 Labels for neural network for classifying the digit 5\n",
    "trainLabel2 = [1 if x == 5 else 0 for x in trainLabel]\n",
    "testLabel2 = [1 if x == 5 else 0 for x in testLabel]\n",
    "\n",
    "#shuffling the data so that all classes are not placed together in the dataset\n",
    "trainData,trainLabel2 = shuffleData(trainData,trainLabel2)\n",
    "testData,testLabel2 = shuffleData(testData,testLabel2)"
   ]
  },
  {
   "cell_type": "markdown",
   "metadata": {},
   "source": [
    "#### Training the model"
   ]
  },
  {
   "cell_type": "code",
   "execution_count": 34,
   "metadata": {
    "collapsed": true
   },
   "outputs": [],
   "source": [
    "# SETTING HYPERPARAMETERS\n",
    "\n",
    "trainSize = len(trainData)\n",
    "batchSize = 100\n",
    "nEpochs = 15\n",
    "learningRate = 0.001\n",
    "\n",
    "trainIter = 0\n",
    "\n",
    "W = np.random.uniform(low = -np.sqrt(6.0/(196 + 1)), high = np.sqrt(6.0/(196 + 1)), size= (196,)) #initializing the weight matrix based on "
   ]
  },
  {
   "cell_type": "code",
   "execution_count": 35,
   "metadata": {},
   "outputs": [
    {
     "name": "stdout",
     "output_type": "stream",
     "text": [
      "ITERATION NO : 1\n",
      "train Accuracy : 0.900000 precision : 0.000000 recall : 0.000000 f1 : 0.000000 \n",
      "test Accuracy : 0.900000 precision : 0.000000 recall : 0.000000 f1 : 0.000000 \n",
      "ITERATION NO : 2\n",
      "train Accuracy : 0.900000 precision : 0.000000 recall : 0.000000 f1 : 0.000000 \n",
      "test Accuracy : 0.900000 precision : 0.000000 recall : 0.000000 f1 : 0.000000 \n",
      "ITERATION NO : 3\n",
      "train Accuracy : 0.900000 precision : 0.000000 recall : 0.000000 f1 : 0.000000 \n",
      "test Accuracy : 0.900000 precision : 0.000000 recall : 0.000000 f1 : 0.000000 \n",
      "ITERATION NO : 4\n",
      "train Accuracy : 0.900000 precision : 0.000000 recall : 0.000000 f1 : 0.000000 \n",
      "test Accuracy : 0.900000 precision : 0.000000 recall : 0.000000 f1 : 0.000000 \n",
      "ITERATION NO : 5\n",
      "train Accuracy : 0.900000 precision : 0.000000 recall : 0.000000 f1 : 0.000000 \n",
      "test Accuracy : 0.900000 precision : 0.000000 recall : 0.000000 f1 : 0.000000 \n",
      "ITERATION NO : 6\n",
      "train Accuracy : 0.899600 precision : 1.000000 recall : 0.004000 f1 : 0.007968 \n",
      "test Accuracy : 0.900000 precision : 0.000000 recall : 0.000000 f1 : 0.000000 \n",
      "ITERATION NO : 7\n",
      "train Accuracy : 0.899600 precision : 1.000000 recall : 0.004000 f1 : 0.007968 \n",
      "test Accuracy : 0.900000 precision : 0.000000 recall : 0.000000 f1 : 0.000000 \n",
      "ITERATION NO : 8\n",
      "train Accuracy : 0.900000 precision : 1.000000 recall : 0.008000 f1 : 0.015873 \n",
      "test Accuracy : 0.900000 precision : 0.000000 recall : 0.000000 f1 : 0.000000 \n",
      "ITERATION NO : 9\n",
      "train Accuracy : 0.899600 precision : 1.000000 recall : 0.012000 f1 : 0.023715 \n",
      "test Accuracy : 0.900400 precision : 0.000000 recall : 0.000000 f1 : 0.000000 \n",
      "ITERATION NO : 10\n",
      "train Accuracy : 0.898800 precision : 1.000000 recall : 0.028000 f1 : 0.054475 \n",
      "test Accuracy : 0.900400 precision : 0.000000 recall : 0.000000 f1 : 0.000000 \n",
      "ITERATION NO : 11\n",
      "train Accuracy : 0.898000 precision : 1.000000 recall : 0.036000 f1 : 0.069498 \n",
      "test Accuracy : 0.901600 precision : 0.000000 recall : 0.000000 f1 : 0.000000 \n",
      "ITERATION NO : 12\n",
      "train Accuracy : 0.896000 precision : 1.000000 recall : 0.056000 f1 : 0.106061 \n",
      "test Accuracy : 0.904800 precision : 0.142857 recall : 0.008000 f1 : 0.015152 \n",
      "ITERATION NO : 13\n",
      "train Accuracy : 0.895200 precision : 1.000000 recall : 0.080000 f1 : 0.148148 \n",
      "test Accuracy : 0.906400 precision : 0.111111 recall : 0.008000 f1 : 0.014925 \n",
      "ITERATION NO : 14\n",
      "train Accuracy : 0.893200 precision : 0.960000 recall : 0.096000 f1 : 0.174545 \n",
      "test Accuracy : 0.907600 precision : 0.120000 recall : 0.012000 f1 : 0.021818 \n",
      "ITERATION NO : 15\n",
      "train Accuracy : 0.889600 precision : 0.911765 recall : 0.124000 f1 : 0.218310 \n",
      "test Accuracy : 0.909600 precision : 0.100000 recall : 0.012000 f1 : 0.021429 \n"
     ]
    }
   ],
   "source": [
    "# TRAINING\n",
    "\n",
    "#This cell block can be run multiple times to train the model multiple times. The variable trainIter keeps track of the total number of iterations that the model has trained for. \n",
    "\n",
    "for i in range(nEpochs):\n",
    "    \n",
    "    trainIter += 1\n",
    "    \n",
    "    for batch in range(0,len(trainData),batchSize):\n",
    "    \n",
    "        # Retreiving the input images and labels for the current batch\n",
    "        batchData = np.array(trainData[batch:(batch+batchSize)]) \n",
    "        batchLabel = np.array(trainLabel2[batch:(batch+batchSize)])\n",
    "        \n",
    "        \n",
    "        y_pred = np.array([sigmoid(x) for x in np.matmul(batchData,W)]) # Getting the predicted labels for the batch data\n",
    "\n",
    "        cost = likelihood(y_pred,batchLabel) #calculating the negative loglikelihood cost function\n",
    "        \n",
    "        # Updating the weights of the Perceptron\n",
    "        for wgt in range(len(W)):\n",
    "            inputSlice = batchData[:,wgt]  #Input values corresponding to the particular wgt value\n",
    "            error = batchLabel - y_pred\n",
    "\n",
    "            derivative = np.sum(inputSlice*error)\n",
    "            \n",
    "            W[wgt] = W[wgt] + learningRate*derivative # Updating the weight value based on learning rate and the derivative\n",
    "            \n",
    "        \n",
    "        \n",
    "    trainPred = predict(W, trainData)\n",
    "    testPred = predict(W,testData)\n",
    "        \n",
    "    # calculation of performance metrics\n",
    "    trainAccuracy = accuracy(trainPred,testLabel2)\n",
    "    testAccuracy = accuracy(testPred,testLabel2)\n",
    "    trainPerformMetric = calcMetric(trainPred,trainLabel2)\n",
    "    testPerformMetric = calcMetric(testPred,trainLabel2)\n",
    "    print(\"ITERATION NO : %d\"%trainIter)\n",
    "    print(\"train Accuracy : %f precision : %f recall : %f f1 : %f \"%(trainAccuracy,trainPerformMetric[1],trainPerformMetric[2],trainPerformMetric[3]))\n",
    "    print(\"test Accuracy : %f precision : %f recall : %f f1 : %f \"%(testAccuracy,testPerformMetric[1],testPerformMetric[2],testPerformMetric[3]))\n",
    "    \n",
    "    \n",
    "        \n",
    "    \n",
    "    "
   ]
  },
  {
   "cell_type": "code",
   "execution_count": 36,
   "metadata": {},
   "outputs": [
    {
     "name": "stdout",
     "output_type": "stream",
     "text": [
      "[0 0 0 0 0 0 0 0 0 0]\n",
      "0\n"
     ]
    },
    {
     "data": {
      "image/png": "[encoded data removed]",
      "text/plain": [
       "<matplotlib.figure.Figure at 0x7f9e21e091d0>"
      ]
     },
     "metadata": {},
     "output_type": "display_data"
    }
   ],
   "source": [
    "print(predict(W,testData[15:25]))\n",
    "\n",
    "plt.imshow( np.reshape(testData[18],(14,14)))\n",
    "print(testLabel2[fileNo]) \n",
    "    \n",
    "        "
   ]
  },
  {
   "cell_type": "code",
   "execution_count": null,
   "metadata": {
    "collapsed": true
   },
   "outputs": [],
   "source": []
  }
 ],
 "metadata": {
  "kernelspec": {
   "display_name": "Python 3",
   "language": "python",
   "name": "python3"
  },
  "language_info": {
   "codemirror_mode": {
    "name": "ipython",
    "version": 3
   },
   "file_extension": ".py",
   "mimetype": "text/x-python",
   "name": "python",
   "nbconvert_exporter": "python",
   "pygments_lexer": "ipython3",
   "version": "3.5.3"
  }
 },
 "nbformat": 4,
 "nbformat_minor": 2
}
