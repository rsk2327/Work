{
 "cells": [
  {
   "cell_type": "code",
   "execution_count": 1,
   "metadata": {
    "collapsed": true
   },
   "outputs": [],
   "source": [
    "import pandas as pd\n",
    "import numpy as np"
   ]
  },
  {
   "cell_type": "code",
   "execution_count": 41,
   "metadata": {
    "collapsed": true
   },
   "outputs": [],
   "source": [
    "sheet1 = pd.read_csv('./sheet1.csv')"
   ]
  },
  {
   "cell_type": "code",
   "execution_count": 42,
   "metadata": {},
   "outputs": [
    {
     "data": {
      "text/html": [
       "<div>\n",
       "<style>\n",
       "    .dataframe thead tr:only-child th {\n",
       "        text-align: right;\n",
       "    }\n",
       "\n",
       "    .dataframe thead th {\n",
       "        text-align: left;\n",
       "    }\n",
       "\n",
       "    .dataframe tbody tr th {\n",
       "        vertical-align: top;\n",
       "    }\n",
       "</style>\n",
       "<table border=\"1\" class=\"dataframe\">\n",
       "  <thead>\n",
       "    <tr style=\"text-align: right;\">\n",
       "      <th></th>\n",
       "      <th>IQN</th>\n",
       "      <th>Occupation</th>\n",
       "      <th>Category</th>\n",
       "      <th>Roles</th>\n",
       "      <th>Experience</th>\n",
       "      <th>Gender</th>\n",
       "      <th>Age</th>\n",
       "      <th>Employer</th>\n",
       "      <th>Education</th>\n",
       "    </tr>\n",
       "  </thead>\n",
       "  <tbody>\n",
       "    <tr>\n",
       "      <th>count</th>\n",
       "      <td>304.000000</td>\n",
       "      <td>304.000000</td>\n",
       "      <td>304.000000</td>\n",
       "      <td>304.000000</td>\n",
       "      <td>304.000000</td>\n",
       "      <td>304.000000</td>\n",
       "      <td>304.000000</td>\n",
       "      <td>304.000000</td>\n",
       "      <td>304.000000</td>\n",
       "    </tr>\n",
       "    <tr>\n",
       "      <th>mean</th>\n",
       "      <td>153.559211</td>\n",
       "      <td>3.167763</td>\n",
       "      <td>3.414474</td>\n",
       "      <td>2.825658</td>\n",
       "      <td>3.250000</td>\n",
       "      <td>1.680921</td>\n",
       "      <td>2.687500</td>\n",
       "      <td>2.733553</td>\n",
       "      <td>2.565789</td>\n",
       "    </tr>\n",
       "    <tr>\n",
       "      <th>std</th>\n",
       "      <td>88.766853</td>\n",
       "      <td>1.211120</td>\n",
       "      <td>1.642843</td>\n",
       "      <td>1.266163</td>\n",
       "      <td>1.085457</td>\n",
       "      <td>0.644984</td>\n",
       "      <td>1.058226</td>\n",
       "      <td>1.092153</td>\n",
       "      <td>1.269968</td>\n",
       "    </tr>\n",
       "    <tr>\n",
       "      <th>min</th>\n",
       "      <td>1.000000</td>\n",
       "      <td>1.000000</td>\n",
       "      <td>1.000000</td>\n",
       "      <td>1.000000</td>\n",
       "      <td>1.000000</td>\n",
       "      <td>1.000000</td>\n",
       "      <td>1.000000</td>\n",
       "      <td>1.000000</td>\n",
       "      <td>1.000000</td>\n",
       "    </tr>\n",
       "    <tr>\n",
       "      <th>25%</th>\n",
       "      <td>76.750000</td>\n",
       "      <td>3.000000</td>\n",
       "      <td>2.000000</td>\n",
       "      <td>2.000000</td>\n",
       "      <td>2.000000</td>\n",
       "      <td>1.000000</td>\n",
       "      <td>2.000000</td>\n",
       "      <td>2.000000</td>\n",
       "      <td>2.000000</td>\n",
       "    </tr>\n",
       "    <tr>\n",
       "      <th>50%</th>\n",
       "      <td>154.500000</td>\n",
       "      <td>4.000000</td>\n",
       "      <td>4.000000</td>\n",
       "      <td>3.000000</td>\n",
       "      <td>3.000000</td>\n",
       "      <td>2.000000</td>\n",
       "      <td>2.000000</td>\n",
       "      <td>2.000000</td>\n",
       "      <td>2.000000</td>\n",
       "    </tr>\n",
       "    <tr>\n",
       "      <th>75%</th>\n",
       "      <td>230.250000</td>\n",
       "      <td>4.000000</td>\n",
       "      <td>5.000000</td>\n",
       "      <td>4.000000</td>\n",
       "      <td>4.000000</td>\n",
       "      <td>2.000000</td>\n",
       "      <td>4.000000</td>\n",
       "      <td>4.000000</td>\n",
       "      <td>3.000000</td>\n",
       "    </tr>\n",
       "    <tr>\n",
       "      <th>max</th>\n",
       "      <td>306.000000</td>\n",
       "      <td>5.000000</td>\n",
       "      <td>5.000000</td>\n",
       "      <td>4.000000</td>\n",
       "      <td>9.000000</td>\n",
       "      <td>9.000000</td>\n",
       "      <td>9.000000</td>\n",
       "      <td>9.000000</td>\n",
       "      <td>9.000000</td>\n",
       "    </tr>\n",
       "  </tbody>\n",
       "</table>\n",
       "</div>"
      ],
      "text/plain": [
       "              IQN  Occupation    Category       Roles  Experience      Gender  \\\n",
       "count  304.000000  304.000000  304.000000  304.000000  304.000000  304.000000   \n",
       "mean   153.559211    3.167763    3.414474    2.825658    3.250000    1.680921   \n",
       "std     88.766853    1.211120    1.642843    1.266163    1.085457    0.644984   \n",
       "min      1.000000    1.000000    1.000000    1.000000    1.000000    1.000000   \n",
       "25%     76.750000    3.000000    2.000000    2.000000    2.000000    1.000000   \n",
       "50%    154.500000    4.000000    4.000000    3.000000    3.000000    2.000000   \n",
       "75%    230.250000    4.000000    5.000000    4.000000    4.000000    2.000000   \n",
       "max    306.000000    5.000000    5.000000    4.000000    9.000000    9.000000   \n",
       "\n",
       "              Age    Employer   Education  \n",
       "count  304.000000  304.000000  304.000000  \n",
       "mean     2.687500    2.733553    2.565789  \n",
       "std      1.058226    1.092153    1.269968  \n",
       "min      1.000000    1.000000    1.000000  \n",
       "25%      2.000000    2.000000    2.000000  \n",
       "50%      2.000000    2.000000    2.000000  \n",
       "75%      4.000000    4.000000    3.000000  \n",
       "max      9.000000    9.000000    9.000000  "
      ]
     },
     "execution_count": 42,
     "metadata": {},
     "output_type": "execute_result"
    }
   ],
   "source": [
    "sheet1.describe()"
   ]
  },
  {
   "cell_type": "code",
   "execution_count": null,
   "metadata": {
    "collapsed": true
   },
   "outputs": [],
   "source": [
    "sheet1.loc[sheet1['Roles']>4,'Roles']=4\n",
    "sheet1.loc[sheet1['Experience']>4,'Experience']=4\n",
    "sheet1.loc[sheet1['Gender']>2,'Gender']=2\n",
    "sheet1.loc[sheet1['Age']>4,'Age']=2\n",
    "sheet1.loc[sheet1['Employer']>4,'Employer']=2\n",
    "sheet1.loc[sheet1['Education']>5,'Education']=2"
   ]
  },
  {
   "cell_type": "code",
   "execution_count": 44,
   "metadata": {},
   "outputs": [],
   "source": [
    "sheet1.loc[sheet1['Occupation']==1,'Occupation']='Surgeon'\n",
    "sheet1.loc[sheet1['Occupation']==2,'Occupation']='Assistant Surgeon'\n",
    "sheet1.loc[sheet1['Occupation']==3,'Occupation']='Anaesthesist'\n",
    "sheet1.loc[sheet1['Occupation']==4,'Occupation']='Nurse'\n",
    "sheet1.loc[sheet1['Occupation']==5,'Occupation']='OR Technician'"
   ]
  },
  {
   "cell_type": "code",
   "execution_count": 45,
   "metadata": {
    "collapsed": true
   },
   "outputs": [],
   "source": [
    "sheet1.loc[sheet1['Category']==1,'Category']='Qualified'\n",
    "sheet1.loc[sheet1['Category']==2,'Category']='Experienced'\n",
    "sheet1.loc[sheet1['Category']==3,'Category']='Enrolled Nurse'\n",
    "sheet1.loc[sheet1['Category']==4,'Category']='Nursing auxillary'\n",
    "sheet1.loc[sheet1['Category']==5,'Category']='None'"
   ]
  },
  {
   "cell_type": "code",
   "execution_count": 46,
   "metadata": {
    "collapsed": true
   },
   "outputs": [],
   "source": [
    "sheet1.loc[sheet1['Roles']==1,'Roles']='Scrub Nurse'\n",
    "sheet1.loc[sheet1['Roles']==2,'Roles']='Circulating Nurse'\n",
    "sheet1.loc[sheet1['Roles']==3,'Roles']='Anaesthestic Nurse'\n",
    "sheet1.loc[sheet1['Roles']==4,'Roles']='None'\n"
   ]
  },
  {
   "cell_type": "code",
   "execution_count": 47,
   "metadata": {
    "collapsed": true
   },
   "outputs": [],
   "source": [
    "sheet1.loc[sheet1['Experience']==1,'Experience']='<1 yrs'\n",
    "sheet1.loc[sheet1['Experience']==2,'Experience']='1-5 yrs'\n",
    "sheet1.loc[sheet1['Experience']==3,'Experience']='5-10 yrs'\n",
    "sheet1.loc[sheet1['Experience']==4,'Experience']='>10 yrs'\n"
   ]
  },
  {
   "cell_type": "code",
   "execution_count": 48,
   "metadata": {
    "collapsed": true
   },
   "outputs": [],
   "source": [
    "sheet1.loc[sheet1['Gender']==1,'Gender']='Male'\n",
    "sheet1.loc[sheet1['Gender']==2,'Gender']='Female'"
   ]
  },
  {
   "cell_type": "code",
   "execution_count": 49,
   "metadata": {
    "collapsed": true
   },
   "outputs": [],
   "source": [
    "sheet1.loc[sheet1['Age']==1,'Age']='20-29'\n",
    "sheet1.loc[sheet1['Age']==2,'Age']='30-39'\n",
    "sheet1.loc[sheet1['Age']==3,'Age']='40-49'\n",
    "sheet1.loc[sheet1['Age']==4,'Age']='50+'\n"
   ]
  },
  {
   "cell_type": "code",
   "execution_count": 50,
   "metadata": {
    "collapsed": true
   },
   "outputs": [],
   "source": [
    "sheet1.loc[sheet1['Employer']==1,'Employer']='<1 yrs'\n",
    "sheet1.loc[sheet1['Employer']==2,'Employer']='1-5 yrs'\n",
    "sheet1.loc[sheet1['Employer']==3,'Employer']='5-10 yrs'\n",
    "sheet1.loc[sheet1['Employer']==4,'Employer']='> 10 yrs'\n"
   ]
  },
  {
   "cell_type": "code",
   "execution_count": 51,
   "metadata": {
    "collapsed": true
   },
   "outputs": [],
   "source": [
    "sheet1.loc[sheet1['Education']==1,'Education']='Certificate'\n",
    "sheet1.loc[sheet1['Education']==2,'Education']='Diploma'\n",
    "sheet1.loc[sheet1['Education']==3,'Education']='Degree'\n",
    "sheet1.loc[sheet1['Education']==4,'Education']='Masters Degree'\n",
    "sheet1.loc[sheet1['Education']==5,'Education']='Doctorate Degree'"
   ]
  },
  {
   "cell_type": "code",
   "execution_count": 60,
   "metadata": {},
   "outputs": [
    {
     "data": {
      "text/plain": [
       "Diploma             83\n",
       "Degree              80\n",
       "Certificate         71\n",
       "Masters Degree      55\n",
       "Doctorate Degree    13\n",
       "9                    2\n",
       "Name: Education, dtype: int64"
      ]
     },
     "execution_count": 60,
     "metadata": {},
     "output_type": "execute_result"
    }
   ],
   "source": [
    "sheet1['Education'].value_counts()"
   ]
  },
  {
   "cell_type": "code",
   "execution_count": null,
   "metadata": {
    "collapsed": true
   },
   "outputs": [],
   "source": []
  }
 ],
 "metadata": {
  "kernelspec": {
   "display_name": "Python 2",
   "language": "python",
   "name": "python2"
  },
  "language_info": {
   "codemirror_mode": {
    "name": "ipython",
    "version": 2
   },
   "file_extension": ".py",
   "mimetype": "text/x-python",
   "name": "python",
   "nbconvert_exporter": "python",
   "pygments_lexer": "ipython2",
   "version": "2.7.12"
  }
 },
 "nbformat": 4,
 "nbformat_minor": 2
}
